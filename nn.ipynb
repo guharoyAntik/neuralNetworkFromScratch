{
 "cells": [
  {
   "cell_type": "code",
   "execution_count": 85,
   "metadata": {},
   "outputs": [],
   "source": [
    "import numpy as np\n",
    "import pandas as pd\n",
    "from sklearn.model_selection import train_test_split\n",
    "from sklearn.metrics import accuracy_score, mean_squared_error\n",
    "import matplotlib.pyplot as plt"
   ]
  },
  {
   "cell_type": "code",
   "execution_count": 93,
   "metadata": {},
   "outputs": [],
   "source": [
    "def sigmoid(x):\n",
    "    return 1/(1 + np.exp(-x))\n",
    "\n",
    "def sigmoid_der(x):\n",
    "    return sigmoid(x)*(1-sigmoid(x))\n",
    "\n",
    "def mse(x):\n",
    "    mn = x.mean()\n",
    "    print(mn)\n",
    "\n",
    "class NeuralNetwork:\n",
    "    def __init__(self):\n",
    "        self.Layers = []\n",
    "        pass\n",
    "    \n",
    "    def addLayer(self, x, y):\n",
    "        self.Layers.append(Layer_Dense(x, y))\n",
    "        \n",
    "    def train(self, X_train, X_test, lr, epochs, verbose):\n",
    "        self.mse_list = []\n",
    "        for e in range(epochs):\n",
    "            epc_error = 0\n",
    "            for row in range(len(X_train)):\n",
    "                X = X_train[row]\n",
    "                for L in self.Layers:\n",
    "                    L.forward(X)\n",
    "                    X = L.output\n",
    "\n",
    "                d_weights = [] \n",
    "                error = X_test[row] - L.output\n",
    "                epc_error = mean_squared_error(X_test[row], L.output)\n",
    "        \n",
    "                for i in range(len(self.Layers)-1, 0, -1):\n",
    "                    L = self.Layers[i]\n",
    "                    Lp = self.Layers[i-1]\n",
    "                    cur = np.dot((error*sigmoid_der(L.output)).T, Lp.output)\n",
    "                    d_weights = [cur] + d_weights\n",
    "                    error = np.dot(error, L.weights)\n",
    "\n",
    "                for i in range(1, len(self.Layers)):\n",
    "                    self.Layers[i].weights += lr*d_weights[i-1]\n",
    "                    \n",
    "            if verbose:\n",
    "                print(\"Epoch \", (e+1), \": mse = \", epc_error)\n",
    "            self.mse_list.append(epc_error)\n",
    "    \n",
    "    def query(self, X):\n",
    "        for L in self.Layers:\n",
    "            L.forward(X)\n",
    "            X = L.output\n",
    "        return X[0][0]\n",
    "\n",
    "class Layer_Dense:\n",
    "    def __init__(self, n_features, n_neurons):\n",
    "        self.weights = np.random.normal(0, 1, (n_neurons, n_features))\n",
    "        self.biases = np.zeros((1, n_neurons))\n",
    "    \n",
    "    def forward(self, input):\n",
    "        self.output = sigmoid(np.dot(input, self.weights.T) + self.biases)"
   ]
  },
  {
   "cell_type": "code",
   "execution_count": 94,
   "metadata": {},
   "outputs": [],
   "source": [
    "df = pd.read_csv('dataset.csv', header=None)\n",
    "X = df.iloc[:,:-1].values\n",
    "y = df.iloc[:,-1:].values"
   ]
  },
  {
   "cell_type": "code",
   "execution_count": 95,
   "metadata": {},
   "outputs": [],
   "source": [
    "X_train, X_test, y_train, y_test = train_test_split(X, y, test_size = 0.4, random_state=0)"
   ]
  },
  {
   "cell_type": "code",
   "execution_count": 99,
   "metadata": {},
   "outputs": [],
   "source": [
    "NN = NeuralNetwork()\n",
    "NN.addLayer(4, 32)\n",
    "NN.addLayer(32, 64)\n",
    "NN.addLayer(64, 1)\n",
    "NN.train(X_train, y_train, 0.001, 50, verbose=False)"
   ]
  },
  {
   "cell_type": "code",
   "execution_count": 100,
   "metadata": {},
   "outputs": [
    {
     "name": "stdout",
     "output_type": "stream",
     "text": [
      "0.970856102003643\n"
     ]
    }
   ],
   "source": [
    "y_pred = []\n",
    "for X in X_test:\n",
    "    y_pred.append([round(NN.query(X))])\n",
    "print(accuracy_score(y_pred, y_test))"
   ]
  },
  {
   "cell_type": "code",
   "execution_count": 101,
   "metadata": {},
   "outputs": [
    {
     "data": {
      "image/png": "[encoded data removed]",
      "text/plain": [
       "<Figure size 432x288 with 1 Axes>"
      ]
     },
     "metadata": {
      "needs_background": "light"
     },
     "output_type": "display_data"
    }
   ],
   "source": [
    "plt.plot(NN.mse_list)\n",
    "plt.xlabel('epochs')\n",
    "plt.ylabel('mse')\n",
    "plt.show()"
   ]
  },
  {
   "cell_type": "code",
   "execution_count": null,
   "metadata": {},
   "outputs": [],
   "source": []
  }
 ],
 "metadata": {
  "kernelspec": {
   "display_name": "Python 3",
   "language": "python",
   "name": "python3"
  },
  "language_info": {
   "codemirror_mode": {
    "name": "ipython",
    "version": 3
   },
   "file_extension": ".py",
   "mimetype": "text/x-python",
   "name": "python",
   "nbconvert_exporter": "python",
   "pygments_lexer": "ipython3",
   "version": "3.8.3"
  }
 },
 "nbformat": 4,
 "nbformat_minor": 4
}
